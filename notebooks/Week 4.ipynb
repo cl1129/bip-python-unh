{
 "cells": [
  {
   "cell_type": "markdown",
   "metadata": {},
   "source": [
    "# Week 3 - Python data types, arrays, touples, lists, and dictionaries with logical operation and introduction to loops\n",
    "\n",
    "Below are links to articles regarding key topics for these exercises. You are encouraged to add extra cells where needed to test ideas and experiment to help understand these concepts, feel free to add and please save and upload your testing/experimenting when done.\n",
    "\n",
    "### Python Data Types:\n",
    "Documentation for the Python programming language (fairly dry, but specific to how these data types are implemented). This also includes links to the documentation for dictionaries, lists, and touples.\n",
    "https://docs.python.org/3/library/datatypes.html\n",
    "\n",
    "Geeks for Geeks is good to get a better practical view of these concepts:\n",
    "https://www.geeksforgeeks.org/python-data-types/\n",
    "\n",
    "Real Python helped me a lot to get started, here are the definitions of these same concepts written in their more intro, user friendly style.\n",
    "https://realpython.com/python-data-types/\n",
    "\n",
    "### Python Operators:\n",
    "W3 Schools has a great set of 'cheat sheets' to review and refresh on many different languages and topics. Here is their sheet on operatiors in Python. This includes logical operations we will use in If statements to help make the computer make decisions:\n",
    "https://www.w3schools.com/python/python_operators.asp\n",
    "\n",
    "Geeks for Geeks with another easy to follow approach to Logical Operators specifically:\n",
    "https://www.geeksforgeeks.org/python-logical-operators-with-examples-improvement-needed/\n",
    "\n",
    "### Python Loops:\n",
    "Geeks for Geeks shows both While loops and For loops, and gives some idea on when you want to use which:\n",
    "https://www.geeksforgeeks.org/loops-in-python/\n",
    "\n",
    "Real Pythons article on For Loops (Used more frequently):\n",
    "https://realpython.com/python-for-loop/\n",
    "\n",
    "### Python Variables:\n",
    "W3Schools has a good intro on what variables are and how they are used in Python:\n",
    "https://www.w3schools.com/python/python_variables.asp\n",
    "\n",
    "Real Python has a similar article to help explain variables for those not familar with the concepts:\n",
    "https://realpython.com/python-variables/"
   ]
  },
  {
   "cell_type": "markdown",
   "metadata": {},
   "source": [
    "# Exercises\n",
    "Below are some starting variables and basic steps to setup the questions and exercises below. Feel free to add cells, or add to each cell provided to solve the exercises:\n",
    "\n",
    "## Exercise 1 - List transformations\n",
    "* Add 'horse' and 'barn' to the singular_words list\n",
    "* Create a plural_words list containing the plural word for each item in the singular_words list. Use a loop so you do not have to do this manually"
   ]
  },
  {
   "cell_type": "code",
   "execution_count": 4,
   "metadata": {},
   "outputs": [
    {
     "data": {
      "text/plain": [
       "['one', 'two', 'three']"
      ]
     },
     "execution_count": 4,
     "metadata": {},
     "output_type": "execute_result"
    }
   ],
   "source": [
    "sw = ['one' , 'two' , 'three']\n",
    "zw = ['hello' , 'there']\n",
    "sw"
   ]
  },
  {
   "cell_type": "code",
   "execution_count": 5,
   "metadata": {},
   "outputs": [
    {
     "name": "stdout",
     "output_type": "stream",
     "text": [
      "one\n",
      "two\n",
      "three\n",
      "hello\n",
      "there\n"
     ]
    }
   ],
   "source": [
    "for each_word in sw:\n",
    "    print(each_word)\n",
    "for new_word in zw:\n",
    "    print(new_word)"
   ]
  },
  {
   "cell_type": "code",
   "execution_count": 6,
   "metadata": {},
   "outputs": [
    {
     "name": "stdout",
     "output_type": "stream",
     "text": [
      "one\n",
      "I said one!\n",
      "two\n",
      "three\n"
     ]
    }
   ],
   "source": [
    "for each_word in sw:\n",
    "    print(each_word)\n",
    "    if each_word == 'one':\n",
    "        print('I said one!')"
   ]
  },
  {
   "cell_type": "code",
   "execution_count": 7,
   "metadata": {},
   "outputs": [
    {
     "name": "stdout",
     "output_type": "stream",
     "text": [
      "one\n",
      "two\n",
      "three\n",
      "2\n"
     ]
    }
   ],
   "source": [
    "i = 0\n",
    "for each_word in sw:\n",
    "    print(each_word)\n",
    "    if each_word. startswith('t'):\n",
    "        i += 1\n",
    "        \n",
    "print(i)"
   ]
  },
  {
   "cell_type": "code",
   "execution_count": 8,
   "metadata": {},
   "outputs": [
    {
     "data": {
      "text/plain": [
       "3"
      ]
     },
     "execution_count": 8,
     "metadata": {},
     "output_type": "execute_result"
    }
   ],
   "source": [
    "i +=1\n",
    "i"
   ]
  },
  {
   "cell_type": "code",
   "execution_count": 9,
   "metadata": {},
   "outputs": [
    {
     "data": {
      "text/plain": [
       "['one', 'two', 'three', 'hello', 'there']"
      ]
     },
     "execution_count": 9,
     "metadata": {},
     "output_type": "execute_result"
    }
   ],
   "source": [
    "new_list = sw + zw\n",
    "new_list"
   ]
  },
  {
   "cell_type": "code",
   "execution_count": 10,
   "metadata": {},
   "outputs": [
    {
     "data": {
      "text/plain": [
       "['one', 'two', 'three', 'hello', 'there', 'another item']"
      ]
     },
     "execution_count": 10,
     "metadata": {},
     "output_type": "execute_result"
    }
   ],
   "source": [
    "new_list += ['another item']\n",
    "new_list"
   ]
  },
  {
   "cell_type": "code",
   "execution_count": 11,
   "metadata": {},
   "outputs": [
    {
     "data": {
      "text/plain": [
       "['ones', 'twos', 'threes', 'hellos', 'theres', 'another items']"
      ]
     },
     "execution_count": 11,
     "metadata": {},
     "output_type": "execute_result"
    }
   ],
   "source": [
    "plural_words = []\n",
    "for each_word in new_list:\n",
    "    plural_words. append(each_word + 's')\n",
    "    \n",
    "    \n",
    "plural_words"
   ]
  },
  {
   "cell_type": "code",
   "execution_count": 12,
   "metadata": {},
   "outputs": [
    {
     "data": {
      "text/plain": [
       "['one', 'two', 'three', 'hello', 'there', 'another item']"
      ]
     },
     "execution_count": 12,
     "metadata": {},
     "output_type": "execute_result"
    }
   ],
   "source": [
    "new_list"
   ]
  },
  {
   "cell_type": "code",
   "execution_count": null,
   "metadata": {},
   "outputs": [],
   "source": []
  },
  {
   "cell_type": "code",
   "execution_count": null,
   "metadata": {},
   "outputs": [],
   "source": []
  },
  {
   "cell_type": "code",
   "execution_count": 13,
   "metadata": {
    "ExecuteTime": {
     "end_time": "2020-08-18T17:22:52.798149Z",
     "start_time": "2020-08-18T17:22:52.792164Z"
    }
   },
   "outputs": [
    {
     "data": {
      "text/plain": [
       "['dog', 'cat', 'house', 'toy', 'horse', 'barn']"
      ]
     },
     "execution_count": 13,
     "metadata": {},
     "output_type": "execute_result"
    }
   ],
   "source": [
    "singular_words = ['dog', 'cat', 'house', 'toy'] + ['horse','barn']\n",
    "singular_words"
   ]
  },
  {
   "cell_type": "code",
   "execution_count": 14,
   "metadata": {},
   "outputs": [
    {
     "data": {
      "text/plain": [
       "['dogs', 'cats', 'houses', 'toys', 'horses', 'barns']"
      ]
     },
     "execution_count": 14,
     "metadata": {},
     "output_type": "execute_result"
    }
   ],
   "source": [
    "plural_words = []\n",
    "for each_word in singular_words:\n",
    "    plural_words. append(each_word + 's')\n",
    "    \n",
    "    \n",
    "plural_words"
   ]
  },
  {
   "cell_type": "markdown",
   "metadata": {},
   "source": [
    "## Exercise 2 - Categorizing lists with Dictionaries\n",
    "* Use the plural_words list created above and the word_category dictionary provided below to create a loop that categorizes each word in the list.\n",
    "* The loop should print the word and what the category is in a complete sentence, ordered by how the words appear in the plural_words list."
   ]
  },
  {
   "cell_type": "code",
   "execution_count": 15,
   "metadata": {
    "ExecuteTime": {
     "end_time": "2020-08-18T18:49:06.051285Z",
     "start_time": "2020-08-18T18:49:06.043306Z"
    }
   },
   "outputs": [
    {
     "data": {
      "text/plain": [
       "{'houses': 'objects',\n",
       " 'toys': 'objects',\n",
       " 'barns': 'objects',\n",
       " 'dogs': 'creatures',\n",
       " 'cats': 'creatures',\n",
       " 'horses': 'creatures'}"
      ]
     },
     "execution_count": 15,
     "metadata": {},
     "output_type": "execute_result"
    }
   ],
   "source": [
    "word_category = {\n",
    "    'houses':'objects',\n",
    "    'toys':'objects',\n",
    "    'barns':'objects',\n",
    "    'dogs':'creatures',\n",
    "    'cats':'creatures',\n",
    "    'horses':'creatures'\n",
    "}\n",
    "\n",
    "word_category"
   ]
  },
  {
   "cell_type": "code",
   "execution_count": 16,
   "metadata": {},
   "outputs": [
    {
     "name": "stdout",
     "output_type": "stream",
     "text": [
      "dogs is creatures\n",
      "cats is creatures\n",
      "houses is objects\n",
      "toys is objects\n",
      "horses is creatures\n",
      "barns is objects\n"
     ]
    }
   ],
   "source": [
    "for each_word in plural_words:\n",
    "    print(each_word + ' is ' + word_category[each_word] )"
   ]
  },
  {
   "cell_type": "markdown",
   "metadata": {},
   "source": [
    "## Exercise 3 - Data Conversion\n",
    "Sometimes data comes in unexpected ways. Converting data and using it after is often required to complete analysis in the real world.\n",
    "* convert values in the list to numbers\n",
    "* provide the average (mean) of the numbers\n",
    "* provide the sum (total) of the numbers\n",
    "* provide the count of numbers in the list (Do not enter the value, calculate it)\n",
    "* remove the largest and smallest number from the list\n",
    "* provide the average (mean) of the numbers\n",
    "* provide the sum (total) of the numbers\n",
    "* provide the count of numbers in the list (Do not enter the value, calculate it)"
   ]
  },
  {
   "cell_type": "code",
   "execution_count": 37,
   "metadata": {},
   "outputs": [],
   "source": [
    "numbers = ['10234', '500', '125', '50213', '1440', '64920', '225', '425', '1']\n"
   ]
  },
  {
   "cell_type": "code",
   "execution_count": 38,
   "metadata": {},
   "outputs": [
    {
     "data": {
      "text/plain": [
       "[10234, 500, 125, 50213, 1440, 64920, 225, 425, 1]"
      ]
     },
     "execution_count": 38,
     "metadata": {},
     "output_type": "execute_result"
    }
   ],
   "source": [
    "int_numbers=[]\n",
    "for X in numbers:\n",
    "    int_numbers.append(int(X))\n",
    "    \n",
    "int_numbers"
   ]
  },
  {
   "cell_type": "code",
   "execution_count": 39,
   "metadata": {},
   "outputs": [
    {
     "name": "stdout",
     "output_type": "stream",
     "text": [
      "14231.444444444445\n"
     ]
    }
   ],
   "source": [
    "from numpy import*\n",
    "a = int_numbers\n",
    "b = mean(a)\n",
    "\n",
    "print(b)"
   ]
  },
  {
   "cell_type": "code",
   "execution_count": 40,
   "metadata": {},
   "outputs": [
    {
     "name": "stdout",
     "output_type": "stream",
     "text": [
      "128083\n"
     ]
    }
   ],
   "source": [
    "from numpy import*\n",
    "a = int_numbers\n",
    "b = sum(a)\n",
    "\n",
    "print(b)"
   ]
  },
  {
   "cell_type": "code",
   "execution_count": 41,
   "metadata": {},
   "outputs": [
    {
     "name": "stdout",
     "output_type": "stream",
     "text": [
      "The count of element:3 is  1\n"
     ]
    }
   ],
   "source": [
    "a = int_numbers\n",
    "ele_count = a.count(1)\n",
    "print('The count of element:3 is ', ele_count)"
   ]
  },
  {
   "cell_type": "code",
   "execution_count": 42,
   "metadata": {},
   "outputs": [
    {
     "data": {
      "text/plain": [
       "[10234, 500, 125, 50213, 1440, 225, 425]"
      ]
     },
     "execution_count": 42,
     "metadata": {},
     "output_type": "execute_result"
    }
   ],
   "source": [
    "int_numbers\n",
    "int_numbers. remove(max(int_numbers))\n",
    "int_numbers. remove(min(int_numbers))\n",
    "\n",
    "int_numbers"
   ]
  },
  {
   "cell_type": "code",
   "execution_count": 43,
   "metadata": {},
   "outputs": [
    {
     "name": "stdout",
     "output_type": "stream",
     "text": [
      "9023.142857142857\n"
     ]
    }
   ],
   "source": [
    "from numpy import*\n",
    "a = int_numbers\n",
    "b = mean(a)\n",
    "\n",
    "print(b)"
   ]
  },
  {
   "cell_type": "code",
   "execution_count": 44,
   "metadata": {},
   "outputs": [
    {
     "name": "stdout",
     "output_type": "stream",
     "text": [
      "63162\n"
     ]
    }
   ],
   "source": [
    "from numpy import*\n",
    "a = int_numbers\n",
    "b = sum(a)\n",
    "\n",
    "print(b)"
   ]
  },
  {
   "cell_type": "code",
   "execution_count": 45,
   "metadata": {},
   "outputs": [
    {
     "name": "stdout",
     "output_type": "stream",
     "text": [
      "The count of element:3 is  0\n"
     ]
    }
   ],
   "source": [
    "a = int_numbers\n",
    "ele_count = a.count(1)\n",
    "print('The count of element:3 is ', ele_count)"
   ]
  },
  {
   "cell_type": "code",
   "execution_count": null,
   "metadata": {},
   "outputs": [],
   "source": []
  }
 ],
 "metadata": {
  "kernelspec": {
   "display_name": "Python 3",
   "language": "python",
   "name": "python3"
  },
  "language_info": {
   "codemirror_mode": {
    "name": "ipython",
    "version": 3
   },
   "file_extension": ".py",
   "mimetype": "text/x-python",
   "name": "python",
   "nbconvert_exporter": "python",
   "pygments_lexer": "ipython3",
   "version": "3.8.5"
  },
  "toc": {
   "base_numbering": 1,
   "nav_menu": {},
   "number_sections": true,
   "sideBar": true,
   "skip_h1_title": false,
   "title_cell": "Table of Contents",
   "title_sidebar": "Contents",
   "toc_cell": false,
   "toc_position": {},
   "toc_section_display": true,
   "toc_window_display": false
  },
  "varInspector": {
   "cols": {
    "lenName": 16,
    "lenType": 16,
    "lenVar": 40
   },
   "kernels_config": {
    "python": {
     "delete_cmd_postfix": "",
     "delete_cmd_prefix": "del ",
     "library": "var_list.py",
     "varRefreshCmd": "print(var_dic_list())"
    },
    "r": {
     "delete_cmd_postfix": ") ",
     "delete_cmd_prefix": "rm(",
     "library": "var_list.r",
     "varRefreshCmd": "cat(var_dic_list()) "
    }
   },
   "types_to_exclude": [
    "module",
    "function",
    "builtin_function_or_method",
    "instance",
    "_Feature"
   ],
   "window_display": false
  }
 },
 "nbformat": 4,
 "nbformat_minor": 4
}
